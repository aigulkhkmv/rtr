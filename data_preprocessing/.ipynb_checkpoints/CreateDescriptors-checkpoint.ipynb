{
 "cells": [
  {
   "cell_type": "code",
   "execution_count": 7,
   "metadata": {},
   "outputs": [],
   "source": [
    "import pickle, os, gc, gzip, json\n",
    "from io import StringIO\n",
    "from CGRtools.files import RDFread, SDFread, SDFwrite\n",
    "from CIMtools.preprocessing import CGR, Fragmentor\n",
    "from CGRtools.containers import MoleculeContainer"
   ]
  },
  {
   "cell_type": "markdown",
   "metadata": {},
   "source": [
    "# Split data to small files"
   ]
  },
  {
   "cell_type": "code",
   "execution_count": null,
   "metadata": {},
   "outputs": [],
   "source": [
    "count = 0\n",
    "with open(\"/home/aigul/Retro/parsed.rdf\", \"r\") as f:\n",
    "    i = 0\n",
    "    for e, line in enumerate(f):\n",
    "        with open(\"/home/aigul/Retro/parsed_part_{}.rdf\".format(i), \"a\") as f2:\n",
    "            f2.write(line)\n",
    "            if line == \"$RXN\\n\":\n",
    "                count +=1\n",
    "                if count % 1000000 == 0:\n",
    "                    i +=1\n",
    "                    print(e)"
   ]
  },
  {
   "cell_type": "markdown",
   "metadata": {},
   "source": [
    "# Create SDF file"
   ]
  },
  {
   "cell_type": "code",
   "execution_count": null,
   "metadata": {},
   "outputs": [],
   "source": [
    "with open(\"/home/aigul/Retro/Data_for_modeling_100.pickle\", \"rb\") as f:\n",
    "    rea_centers = pickle.load(f)\n",
    "reverse={}\n",
    "for k,v in rea_centers.items():\n",
    "    for i in v:\n",
    "        reverse[i]=k"
   ]
  },
  {
   "cell_type": "code",
   "execution_count": null,
   "metadata": {},
   "outputs": [],
   "source": [
    "nums = [\"1\", \"2\", \"3\", \"4\"]\n",
    "with SDFwrite(\"/home/aigul/Retro/training_set.sdf\".format, \"a\") as sdf:\n",
    "    for i in nums:\n",
    "        for n,reaction in enumerate(RDFread(\"/home/aigul/Retro/parsed_part_{}.rdf\".format(i))):\n",
    "            if int(reaction.meta['id']) not in reverse:\n",
    "                continue\n",
    "            reaction.meta[\"rule\"]=reverse[int(reaction.meta['id'])]\n",
    "            for x in reaction.products:\n",
    "                if x.number_of_nodes()>5:\n",
    "                    sdf.write(MoleculeContainer(data=x,meta=reaction.meta))"
   ]
  },
  {
   "cell_type": "markdown",
   "metadata": {},
   "source": [
    "# Create descriptors"
   ]
  },
  {
   "cell_type": "code",
   "execution_count": null,
   "metadata": {},
   "outputs": [],
   "source": [
    "os.environ[\"PATH\"]=\"/opt/fragmentor\"\n",
    "fr=Fragmentor(version=\"2017.x\", remove_rare_ratio = 0, fragment_type = 3, max_length = 5, min_length = 2) \n",
    "#remove_rare_ratio лучше указать !=0, т.к. уменьшить можно, а если не указано, указать другое нельзя\n",
    "fr.get_params()"
   ]
  },
  {
   "cell_type": "code",
   "execution_count": null,
   "metadata": {},
   "outputs": [],
   "source": [
    "count = 0\n",
    "part_of_prod = str()\n",
    "i = 0\n",
    "with open(\"/home/aigul/Retro/all_training_set.sdf\", \"r\") as f:\n",
    "    for line in f:\n",
    "        part_of_prod += line\n",
    "        if line == \"$$$$\\n\":\n",
    "            count +=1\n",
    "            if count % 10000 == 0:\n",
    "                mols=SDFread(StringIO(part_of_prod)).read()\n",
    "                fr.partial_fit(mols)\n",
    "                del part_of_prod\n",
    "                del mols\n",
    "                part_of_prod = str()\n",
    "                print(count)\n",
    "                with gzip.open(\"/home/aigul/Retro/descriptors_\"+str(count)+\".pickle\", \"wb\", compresslevel=9) as f2:\n",
    "                    pickle.dump(fr, f2)\n",
    "    if len(part_of_prod) != 0:\n",
    "        mols=SDFread(StringIO(part_of_prod)).read()\n",
    "        fr.partial_fit(mols)\n",
    "        with gzip.open(\"/home/aigul/Retro/descriptors_\"+str(count)+\".pickle\", \"wb\", compresslevel=9) as f2:\n",
    "            pickle.dump(fr, f2)\n",
    "with gzip.open(\"/home/aigul/Retro/descriptors_all.pickle\", \"wb\", compresslevel=9) as f2:\n",
    "    pickle.dump(fr, f2)"
   ]
  },
  {
   "cell_type": "code",
   "execution_count": null,
   "metadata": {},
   "outputs": [],
   "source": [
    "with gzip.open(\"/home/aigul/Retro/descriptors_8_3_4/type_8_descriptors/type_8_descriptors_all.pickle\",\"rb\") as f3:\n",
    "    fr = pickle.load(f3)    \n",
    "fr.remove_rare_ratio = 0.0001\n",
    "fr.finalize()"
   ]
  },
  {
   "cell_type": "code",
   "execution_count": null,
   "metadata": {},
   "outputs": [],
   "source": [
    "with open(\"/home/aigul/Retro/descriptors_8_3_4/type_8_descriptors/finalize_descriptors.pickle\", \"wb\") as f4:\n",
    "    pickle.dump(fr, f4)\n",
    "os.environ[\"PATH\"]+=\":/opt/fragmentor\"      #иначе ошибка с fragmentor"
   ]
  },
  {
   "cell_type": "code",
   "execution_count": null,
   "metadata": {},
   "outputs": [],
   "source": [
    "rule_nums_list = []\n",
    "c = 0\n",
    "with open(\"/home/aigul/Retro/all_training_set.sdf\",\"r\") as f3:\n",
    "    for n, line in enumerate(f3):\n",
    "        if line.find(\">  <rule>\") != -1:\n",
    "            c +=1\n",
    "            num = int(f3.readline())\n",
    "            rule_nums_list.append(num)\n",
    "nums_of_rules = sorted(set(rule_nums_list))"
   ]
  },
  {
   "cell_type": "code",
   "execution_count": null,
   "metadata": {},
   "outputs": [],
   "source": [
    "#словарь ключ новые id, значение старые id\n",
    "count1 = 0\n",
    "new_old_nums_of_rules = {}\n",
    "for old_num in nums_of_rules:\n",
    "    new_old_nums_of_rules[count1] = old_num\n",
    "    count1 +=1\n",
    "    \n",
    "#словарь ключ старые id, значение новые id    \n",
    "count2 = 0\n",
    "old_new_nums_of_rules = {}\n",
    "for old_num in nums_of_rules:\n",
    "    old_new_nums_of_rules[old_num] = count2 \n",
    "    count2 +=1\n",
    "    \n",
    "with open('/home/aigul/Retro/descriptors_8_3_4/type_8_descriptors/OldNewNumsOfRules.json', 'w') as outfile:\n",
    "    json.dump(old_new_nums_of_rules, outfile)"
   ]
  },
  {
   "cell_type": "code",
   "execution_count": null,
   "metadata": {},
   "outputs": [],
   "source": [
    "count = 0\n",
    "old_nums = []\n",
    "new_nums = []\n",
    "rea_id = []\n",
    "year = []\n",
    "cou = 0\n",
    "part_of_prod = str()\n",
    "\n",
    "with open(\"/home/aigul/Retro/all_training_set.sdf\", \"r\") as f:\n",
    "    for line in f:\n",
    "        part_of_prod += line\n",
    "        if line.find(\">  <id>\") != -1:\n",
    "            id_ = int(f.readline())\n",
    "            rea_id.append(id_)\n",
    "        if line.find(\">  <year>\") != -1:\n",
    "            year_= int(f.readline())\n",
    "            year.append(year_)\n",
    "        if line.find(\">  <rule>\") != -1:\n",
    "            cou += 1\n",
    "            num = int(f.readline())\n",
    "            old_nums.append(num)\n",
    "            for o_n in old_new_nums_of_rules.keys():\n",
    "                if o_n == num:\n",
    "                    new_nums.append(old_new_nums_of_rules[num])\n",
    "        if line == \"$$$$\\n\":\n",
    "            count +=1\n",
    "            if cou % 10000 == 0 and cou != 0:\n",
    "#             if cou % 2 == 0 and cou != 0:\n",
    "                mols=SDFread(StringIO(part_of_prod)).read()\n",
    "                y = fr.transform(mols)\n",
    "                y[\"OldNumRule\"] = old_nums\n",
    "                y[\"NewNumRule\"] = new_nums\n",
    "                y[\"ReaID\"] = rea_id\n",
    "                y[\"Year\"] = year\n",
    "                y.to_csv(\"/home/aigul/Retro/descriptors_8_3_4/type_8_descriptors/transfroms_with_rules/transform_mols_\" + str(cou) + \".csv\")\n",
    "                del part_of_prod\n",
    "                del mols\n",
    "                part_of_prod = str()\n",
    "                old_nums = []\n",
    "                new_nums = []\n",
    "                year = []\n",
    "                rea_id = []               \n",
    "                \n",
    "#                 break\n",
    "                \n",
    "    if len(part_of_prod) != 0:\n",
    "        mols=SDFread(StringIO(part_of_prod)).read()\n",
    "        y = fr.transform(mols)\n",
    "        y[\"OldNumRule\"] = old_nums\n",
    "        y[\"NewNumRule\"] = new_nums\n",
    "        y[\"ReaID\"] = rea_id\n",
    "        y[\"Year\"] = year\n",
    "        y.to_csv(\"/home/aigul/Retro/descriptors_8_3_4/type_8_descriptors/transfroms_with_rules/transform_mols_\"+str(count)+\".csv\")    \n"
   ]
  }
 ],
 "metadata": {
  "kernelspec": {
   "display_name": "Python 3",
   "language": "python",
   "name": "python3"
  },
  "language_info": {
   "codemirror_mode": {
    "name": "ipython",
    "version": 3
   },
   "file_extension": ".py",
   "mimetype": "text/x-python",
   "name": "python",
   "nbconvert_exporter": "python",
   "pygments_lexer": "ipython3",
   "version": "3.6.5"
  }
 },
 "nbformat": 4,
 "nbformat_minor": 2
}
