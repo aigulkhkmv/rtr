{
 "cells": [
  {
   "cell_type": "code",
   "execution_count": 1,
   "metadata": {},
   "outputs": [],
   "source": [
    "import pickle\n",
    "from collections import OrderedDict"
   ]
  },
  {
   "cell_type": "code",
   "execution_count": 2,
   "metadata": {},
   "outputs": [],
   "source": [
    "with open(\"Desktop/transformations_pycharm_str_.pickle\", \"rb\") as f:\n",
    "    rea_center_dict = pickle.load(f)"
   ]
  },
  {
   "cell_type": "code",
   "execution_count": 3,
   "metadata": {},
   "outputs": [],
   "source": [
    "rea_center_with_size_dict = {}\n",
    "for transf_id in rea_center_dict:\n",
    "    rea_center_with_size_dict[transf_id] = len(rea_center_dict[transf_id])"
   ]
  },
  {
   "cell_type": "code",
   "execution_count": 4,
   "metadata": {},
   "outputs": [
    {
     "name": "stdout",
     "output_type": "stream",
     "text": [
      "209152\n"
     ]
    }
   ],
   "source": [
    "rea_centers = len(rea_center_with_size_dict)\n",
    "print(rea_centers)"
   ]
  },
  {
   "cell_type": "code",
   "execution_count": 5,
   "metadata": {},
   "outputs": [
    {
     "name": "stdout",
     "output_type": "stream",
     "text": [
      "138822\n"
     ]
    }
   ],
   "source": [
    "rea_center_with_size_1_dict = {}\n",
    "for transf_id in rea_center_with_size_dict:\n",
    "    if rea_center_with_size_dict[transf_id] != 1:\n",
    "        rea_center_with_size_1_dict[transf_id] = rea_center_with_size_dict[transf_id]\n",
    "rea_centers = len(rea_center_with_size_1_dict)\n",
    "print(rea_centers)"
   ]
  },
  {
   "cell_type": "code",
   "execution_count": 6,
   "metadata": {},
   "outputs": [
    {
     "name": "stdout",
     "output_type": "stream",
     "text": [
      "22742\n"
     ]
    }
   ],
   "source": [
    "rea_center_with_size_more_10_dict = {}\n",
    "for transf_id in rea_center_with_size_dict:\n",
    "    if rea_center_with_size_dict[transf_id] > 10:\n",
    "        rea_center_with_size_more_10_dict[transf_id] = rea_center_with_size_dict[transf_id]\n",
    "rea_centers = len(rea_center_with_size_more_10_dict)\n",
    "print(rea_centers)"
   ]
  },
  {
   "cell_type": "code",
   "execution_count": 24,
   "metadata": {},
   "outputs": [
    {
     "name": "stdout",
     "output_type": "stream",
     "text": [
      "12078\n"
     ]
    }
   ],
   "source": [
    "rea_center_with_size_more_20_dict = {}\n",
    "for transf_id in rea_center_with_size_dict:\n",
    "    if rea_center_with_size_dict[transf_id] > 20:\n",
    "        rea_center_with_size_more_20_dict[transf_id] = rea_center_with_size_dict[transf_id]\n",
    "rea_centers = len(rea_center_with_size_more_20_dict)\n",
    "print(rea_centers)"
   ]
  },
  {
   "cell_type": "code",
   "execution_count": 8,
   "metadata": {},
   "outputs": [
    {
     "data": {
      "text/plain": [
       "11624"
      ]
     },
     "execution_count": 8,
     "metadata": {},
     "output_type": "execute_result"
    }
   ],
   "source": [
    "rea_center_with_size_dict[1]"
   ]
  },
  {
   "cell_type": "code",
   "execution_count": 19,
   "metadata": {},
   "outputs": [],
   "source": [
    "rea_center_with_dicf_size = {}\n",
    "count = 10\n",
    "rea_count = 0 \n",
    "while count < 160:\n",
    "    for transf_id in rea_center_with_size_dict:\n",
    "        if rea_center_with_size_dict[transf_id] > count:\n",
    "            rea_count +=1\n",
    "    rea_center_with_dicf_size[count] = rea_count\n",
    "    count+=10\n",
    "    rea_count = 0"
   ]
  },
  {
   "cell_type": "code",
   "execution_count": 21,
   "metadata": {},
   "outputs": [
    {
     "name": "stderr",
     "output_type": "stream",
     "text": [
      "/home/aigul/anaconda3/lib/python3.6/site-packages/matplotlib/cbook/deprecation.py:107: MatplotlibDeprecationWarning: Adding an axes using the same arguments as a previous axes currently reuses the earlier instance.  In a future version, a new instance will always be created and returned.  Meanwhile, this warning can be suppressed, and the future behavior ensured, by passing a unique label to each axes instance.\n",
      "  warnings.warn(message, mplDeprecation, stacklevel=1)\n"
     ]
    },
    {
     "data": {
      "text/plain": [
       "<BarContainer object of 15 artists>"
      ]
     },
     "execution_count": 21,
     "metadata": {},
     "output_type": "execute_result"
    },
    {
     "data": {
      "image/png": "[encoded data removed]",
      "text/plain": [
       "<Figure size 512x384 with 1 Axes>"
      ]
     },
     "metadata": {},
     "output_type": "display_data"
    }
   ],
   "source": [
    "import matplotlib as mpl\n",
    "import matplotlib.pyplot as plt\n",
    "import math\n",
    "dpi = 80\n",
    "fig = plt.figure(dpi = dpi, figsize = (512 / dpi, 384 / dpi) )\n",
    "mpl.rcParams.update({'font.size': 15})\n",
    "plt.title('Different reaction centres')\n",
    "\n",
    "ax = plt.axes()\n",
    "ax.yaxis.grid(True, zorder = 1)\n",
    "\n",
    "plt.bar([x for x in rea_center_with_dicf_size], [x for x in rea_center_with_dicf_size.values()], color = 'blue', alpha = 1,\n",
    "        zorder = 2)"
   ]
  },
  {
   "cell_type": "markdown",
   "metadata": {},
   "source": [
    "209152 - all centers"
   ]
  },
  {
   "cell_type": "code",
   "execution_count": 39,
   "metadata": {},
   "outputs": [],
   "source": [
    "data_for_modeling ={}\n",
    "for rea_center in rea_center_dict:\n",
    "    if len(rea_center_dict[rea_center]) > 100:\n",
    "        data_for_modeling[rea_center] = rea_center_dict[rea_center]\n",
    "        \n",
    "with open(\"Data_for_modeling_100.pickle\", \"wb\") as f:\n",
    "    pickle.dump(data_for_modeling, f)"
   ]
  }
 ],
 "metadata": {
  "kernelspec": {
   "display_name": "Python 3",
   "language": "python",
   "name": "python3"
  },
  "language_info": {
   "codemirror_mode": {
    "name": "ipython",
    "version": 3
   },
   "file_extension": ".py",
   "mimetype": "text/x-python",
   "name": "python",
   "nbconvert_exporter": "python",
   "pygments_lexer": "ipython3",
   "version": "3.6.5"
  }
 },
 "nbformat": 4,
 "nbformat_minor": 2
}
