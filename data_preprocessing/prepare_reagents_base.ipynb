{
 "cells": [
  {
   "cell_type": "code",
   "execution_count": 25,
   "metadata": {},
   "outputs": [],
   "source": [
    "from CGRtools.files import RDFread, RDFwrite, SDFread, SDFwrite\n",
    "import joblib\n",
    "from joblib import Parallel, delayed\n",
    "import pickle\n",
    "from CIMtools.preprocessing import StandardizeChemAxon"
   ]
  },
  {
   "cell_type": "code",
   "execution_count": 26,
   "metadata": {},
   "outputs": [],
   "source": [
    "with open(\"/home/aigul/Retro/stand/stand.xml\", \"r\") as stand_file:\n",
    "    std = stand_file.read()\n",
    "standardizer = StandardizeChemAxon(std)"
   ]
  },
  {
   "cell_type": "code",
   "execution_count": 30,
   "metadata": {},
   "outputs": [],
   "source": [
    "with SDFread(\"/home/aigul/Retro/reagents/zink/molportbb_p0.0.sdf\") as f3:\n",
    "    reagents = f3.read()"
   ]
  },
  {
   "cell_type": "code",
   "execution_count": 36,
   "metadata": {},
   "outputs": [
    {
     "name": "stderr",
     "output_type": "stream",
     "text": [
      "[Parallel(n_jobs=4)]: Using backend LokyBackend with 4 concurrent workers.\n",
      "[Parallel(n_jobs=4)]: Done  42 tasks      | elapsed:   27.3s\n",
      "[Parallel(n_jobs=4)]: Done 192 tasks      | elapsed:  2.0min\n",
      "[Parallel(n_jobs=4)]: Done 442 tasks      | elapsed:  4.5min\n",
      "[Parallel(n_jobs=4)]: Done 792 tasks      | elapsed:  8.1min\n",
      "[Parallel(n_jobs=4)]: Done 1242 tasks      | elapsed: 12.7min\n",
      "[Parallel(n_jobs=4)]: Done 1792 tasks      | elapsed: 18.6min\n",
      "[Parallel(n_jobs=4)]: Done 2442 tasks      | elapsed: 25.5min\n",
      "[Parallel(n_jobs=4)]: Done 3192 tasks      | elapsed: 33.4min\n",
      "[Parallel(n_jobs=4)]: Done 4042 tasks      | elapsed: 42.2min\n",
      "[Parallel(n_jobs=4)]: Done 4992 tasks      | elapsed: 51.8min\n",
      "[Parallel(n_jobs=4)]: Done 6042 tasks      | elapsed: 62.6min\n",
      "[Parallel(n_jobs=4)]: Done 7192 tasks      | elapsed: 75.2min\n",
      "[Parallel(n_jobs=4)]: Done 8442 tasks      | elapsed: 87.9min\n",
      "[Parallel(n_jobs=4)]: Done 9792 tasks      | elapsed: 101.4min\n",
      "[Parallel(n_jobs=4)]: Done 11242 tasks      | elapsed: 116.1min\n",
      "[Parallel(n_jobs=4)]: Done 12792 tasks      | elapsed: 132.3min\n",
      "[Parallel(n_jobs=4)]: Done 14442 tasks      | elapsed: 149.5min\n",
      "[Parallel(n_jobs=4)]: Done 16192 tasks      | elapsed: 169.9min\n",
      "[Parallel(n_jobs=4)]: Done 18042 tasks      | elapsed: 189.4min\n",
      "[Parallel(n_jobs=4)]: Done 19992 tasks      | elapsed: 210.7min\n",
      "[Parallel(n_jobs=4)]: Done 22042 tasks      | elapsed: 232.4min\n",
      "[Parallel(n_jobs=4)]: Done 24192 tasks      | elapsed: 254.5min\n",
      "[Parallel(n_jobs=4)]: Done 26442 tasks      | elapsed: 278.2min\n",
      "[Parallel(n_jobs=4)]: Done 28792 tasks      | elapsed: 303.4min\n",
      "[Parallel(n_jobs=4)]: Done 30000 out of 30000 | elapsed: 316.0min finished\n"
     ]
    }
   ],
   "source": [
    "def standartizing_and_hashing(reagent):\n",
    "    return standardizer.transform([reagent]).as_matrix()[0].get_signature_hash()\n",
    "\n",
    "stand_reag_hashes = Parallel(n_jobs=4, verbose=1)(delayed(standartizing_and_hashing)(reagent) for reagent in reagents[:30000])\n",
    "\n",
    "with open(\"/home/aigul/Retro/reagents/molprotbb_std.pickle\", \"wb\") as f:\n",
    "    pickle.dump(stand_reag_hashes, f)"
   ]
  }
 ],
 "metadata": {
  "kernelspec": {
   "display_name": "Python 3",
   "language": "python",
   "name": "python3"
  },
  "language_info": {
   "codemirror_mode": {
    "name": "ipython",
    "version": 3
   },
   "file_extension": ".py",
   "mimetype": "text/x-python",
   "name": "python",
   "nbconvert_exporter": "python",
   "pygments_lexer": "ipython3",
   "version": "3.6.5"
  }
 },
 "nbformat": 4,
 "nbformat_minor": 2
}
